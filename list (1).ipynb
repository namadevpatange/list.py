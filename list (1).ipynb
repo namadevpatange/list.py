{
 "cells": [
  {
   "cell_type": "code",
   "execution_count": 1,
   "id": "b8290a81",
   "metadata": {},
   "outputs": [],
   "source": [
    "# Create a list"
   ]
  },
  {
   "cell_type": "code",
   "execution_count": 2,
   "id": "246bb1cc",
   "metadata": {},
   "outputs": [],
   "source": [
    "l = []"
   ]
  },
  {
   "cell_type": "code",
   "execution_count": 3,
   "id": "cff51ce7",
   "metadata": {},
   "outputs": [],
   "source": [
    "s = 'we are learning Python123'"
   ]
  },
  {
   "cell_type": "code",
   "execution_count": 4,
   "id": "e0d930df",
   "metadata": {},
   "outputs": [
    {
     "data": {
      "text/plain": [
       "str"
      ]
     },
     "execution_count": 4,
     "metadata": {},
     "output_type": "execute_result"
    }
   ],
   "source": [
    "type(s)"
   ]
  },
  {
   "cell_type": "code",
   "execution_count": 5,
   "id": "1a0eaae3",
   "metadata": {},
   "outputs": [],
   "source": [
    "s=['adasd',324]"
   ]
  },
  {
   "cell_type": "code",
   "execution_count": 6,
   "id": "f94ef096",
   "metadata": {},
   "outputs": [
    {
     "data": {
      "text/plain": [
       "list"
      ]
     },
     "execution_count": 6,
     "metadata": {},
     "output_type": "execute_result"
    }
   ],
   "source": [
    "type(s)"
   ]
  },
  {
   "cell_type": "code",
   "execution_count": 8,
   "id": "f0a2762f",
   "metadata": {},
   "outputs": [],
   "source": [
    "l = [2,3,4,5,6,7,6,6,6]"
   ]
  },
  {
   "cell_type": "code",
   "execution_count": 9,
   "id": "c068017f",
   "metadata": {},
   "outputs": [],
   "source": [
    "# Q. How many times 6 has come in l."
   ]
  },
  {
   "cell_type": "code",
   "execution_count": 10,
   "id": "b1ca3b63",
   "metadata": {},
   "outputs": [
    {
     "data": {
      "text/plain": [
       "4"
      ]
     },
     "execution_count": 10,
     "metadata": {},
     "output_type": "execute_result"
    }
   ],
   "source": [
    "# Ritika, Vaibhav\n",
    "l.count(6)"
   ]
  },
  {
   "cell_type": "code",
   "execution_count": 14,
   "id": "cdcefd5d",
   "metadata": {},
   "outputs": [],
   "source": [
    "l1 = [[2,3,4], [3,4,5], [5,6,7]]"
   ]
  },
  {
   "cell_type": "code",
   "execution_count": 12,
   "id": "25e4bca5",
   "metadata": {},
   "outputs": [],
   "source": [
    "# Q. Add your name in the list l1."
   ]
  },
  {
   "cell_type": "code",
   "execution_count": 13,
   "id": "6a7a4795",
   "metadata": {},
   "outputs": [],
   "source": [
    "# Q. Get each alphabet of your name seperately"
   ]
  },
  {
   "cell_type": "code",
   "execution_count": 15,
   "id": "8eba4e35",
   "metadata": {},
   "outputs": [],
   "source": [
    "flattened_list = [item for sublist in l1 for item in sublist]\n",
    "\n",
    "\n",
    "target_number = 4\n",
    "\n",
    "number = flattened_list.count(target_number)"
   ]
  },
  {
   "cell_type": "code",
   "execution_count": 16,
   "id": "fd671d5f",
   "metadata": {},
   "outputs": [
    {
     "data": {
      "text/plain": [
       "2"
      ]
     },
     "execution_count": 16,
     "metadata": {},
     "output_type": "execute_result"
    }
   ],
   "source": [
    "number"
   ]
  },
  {
   "cell_type": "code",
   "execution_count": 19,
   "id": "93c17328",
   "metadata": {},
   "outputs": [],
   "source": [
    "l1.append(\"Vaibhav\")"
   ]
  },
  {
   "cell_type": "code",
   "execution_count": 20,
   "id": "2a9eb3f4",
   "metadata": {},
   "outputs": [
    {
     "data": {
      "text/plain": [
       "[[2, 3, 4], [3, 4, 5], [5, 6, 7], 'Vaibahv', 'Vaibhav']"
      ]
     },
     "execution_count": 20,
     "metadata": {},
     "output_type": "execute_result"
    }
   ],
   "source": [
    "l1"
   ]
  },
  {
   "cell_type": "code",
   "execution_count": 26,
   "id": "5257e2a4",
   "metadata": {},
   "outputs": [
    {
     "data": {
      "text/plain": [
       "'Vaibhav'"
      ]
     },
     "execution_count": 26,
     "metadata": {},
     "output_type": "execute_result"
    }
   ],
   "source": [
    "l1.pop(3)"
   ]
  },
  {
   "cell_type": "code",
   "execution_count": 27,
   "id": "1afef6f3",
   "metadata": {},
   "outputs": [
    {
     "data": {
      "text/plain": [
       "[[2, 3, 4], [3, 4, 5], [5, 6, 7]]"
      ]
     },
     "execution_count": 27,
     "metadata": {},
     "output_type": "execute_result"
    }
   ],
   "source": [
    "l1"
   ]
  },
  {
   "cell_type": "code",
   "execution_count": 28,
   "id": "4243162d",
   "metadata": {},
   "outputs": [
    {
     "data": {
      "text/plain": [
       "[[2, 3, 4], [3, 4, 5], [5, 6, 7], 'v', 'a', 'i', 'b', 'h', 'a', 'v']"
      ]
     },
     "execution_count": 28,
     "metadata": {},
     "output_type": "execute_result"
    }
   ],
   "source": [
    "# Vaibhav's ans.\n",
    "l1+list('vaibhav')"
   ]
  },
  {
   "cell_type": "code",
   "execution_count": 29,
   "id": "eddda08e",
   "metadata": {},
   "outputs": [],
   "source": [
    "l1.extend(\"Tejas\")"
   ]
  },
  {
   "cell_type": "code",
   "execution_count": 30,
   "id": "66704303",
   "metadata": {},
   "outputs": [
    {
     "data": {
      "text/plain": [
       "[[2, 3, 4], [3, 4, 5], [5, 6, 7], 'T', 'e', 'j', 'a', 's']"
      ]
     },
     "execution_count": 30,
     "metadata": {},
     "output_type": "execute_result"
    }
   ],
   "source": [
    "l1"
   ]
  },
  {
   "cell_type": "code",
   "execution_count": 31,
   "id": "4ec5d3d9",
   "metadata": {},
   "outputs": [],
   "source": [
    "l1.extend([23,45,67])"
   ]
  },
  {
   "cell_type": "markdown",
   "id": "6c73ff60",
   "metadata": {},
   "source": [
    "# "
   ]
  },
  {
   "cell_type": "code",
   "execution_count": 32,
   "id": "6fa94f82",
   "metadata": {},
   "outputs": [
    {
     "data": {
      "text/plain": [
       "[[2, 3, 4], [3, 4, 5], [5, 6, 7], 'T', 'e', 'j', 'a', 's', 23, 45, 67]"
      ]
     },
     "execution_count": 32,
     "metadata": {},
     "output_type": "execute_result"
    }
   ],
   "source": [
    "l1"
   ]
  },
  {
   "cell_type": "code",
   "execution_count": 34,
   "id": "8fb65c9a",
   "metadata": {},
   "outputs": [
    {
     "data": {
      "text/plain": [
       "8"
      ]
     },
     "execution_count": 34,
     "metadata": {},
     "output_type": "execute_result"
    }
   ],
   "source": [
    "# Find the index of 23\n",
    "# Vaibhav\n",
    "l1.index(23)"
   ]
  },
  {
   "cell_type": "code",
   "execution_count": null,
   "id": "5ac42dcb",
   "metadata": {},
   "outputs": [],
   "source": [
    "# Q. Write your name at the place of [5,6,7].\n"
   ]
  },
  {
   "cell_type": "code",
   "execution_count": null,
   "id": "1dee6689",
   "metadata": {},
   "outputs": [],
   "source": []
  },
  {
   "cell_type": "code",
   "execution_count": 41,
   "id": "a0cf1726",
   "metadata": {},
   "outputs": [],
   "source": [
    "# Vaibhav\n",
    "l1[2]='vaibhav'\n",
    "l1[2]=\"ritika\""
   ]
  },
  {
   "cell_type": "code",
   "execution_count": 45,
   "id": "6d8b1589",
   "metadata": {},
   "outputs": [],
   "source": [
    "# Insert function\n",
    "l1.insert(3, \"Namdev\")"
   ]
  },
  {
   "cell_type": "code",
   "execution_count": 46,
   "id": "8ed573e8",
   "metadata": {},
   "outputs": [
    {
     "data": {
      "text/plain": [
       "[[2, 3, 4],\n",
       " [3, 4, 5],\n",
       " 'ritika',\n",
       " 'Namdev',\n",
       " 'Namdev',\n",
       " 'T',\n",
       " 'e',\n",
       " 'j',\n",
       " 'a',\n",
       " 's',\n",
       " 23,\n",
       " 45,\n",
       " 67]"
      ]
     },
     "execution_count": 46,
     "metadata": {},
     "output_type": "execute_result"
    }
   ],
   "source": [
    "l1"
   ]
  },
  {
   "cell_type": "code",
   "execution_count": 36,
   "id": "ebc4d161",
   "metadata": {},
   "outputs": [
    {
     "data": {
      "text/plain": [
       "[[2, 3, 4], [3, 4, 5], 'vaibhav', 'T', 'e', 'j', 'a', 's', 23, 45, 67]"
      ]
     },
     "execution_count": 36,
     "metadata": {},
     "output_type": "execute_result"
    }
   ],
   "source": [
    "l1"
   ]
  },
  {
   "cell_type": "code",
   "execution_count": 37,
   "id": "f955ab78",
   "metadata": {},
   "outputs": [],
   "source": [
    "# Q. l3 = [3,4,5,6,7,8,8,8,8,8,9] What is the index of 8??"
   ]
  },
  {
   "cell_type": "code",
   "execution_count": 40,
   "id": "f1ab5c30",
   "metadata": {},
   "outputs": [
    {
     "data": {
      "text/plain": [
       "5"
      ]
     },
     "execution_count": 40,
     "metadata": {},
     "output_type": "execute_result"
    }
   ],
   "source": [
    "l3 = [3,4,5,6,7,8,8,8,8,8,9]\n",
    "l3.index(8)"
   ]
  },
  {
   "cell_type": "code",
   "execution_count": 47,
   "id": "db3ccda7",
   "metadata": {},
   "outputs": [],
   "source": [
    "# mutable and Immutable\n",
    "s = \"Madhu\""
   ]
  },
  {
   "cell_type": "code",
   "execution_count": 48,
   "id": "24cce571",
   "metadata": {},
   "outputs": [
    {
     "data": {
      "text/plain": [
       "'M'"
      ]
     },
     "execution_count": 48,
     "metadata": {},
     "output_type": "execute_result"
    }
   ],
   "source": [
    "# Q. remove d and put p there.\n",
    "s[0]"
   ]
  },
  {
   "cell_type": "code",
   "execution_count": 49,
   "id": "7747dabb",
   "metadata": {},
   "outputs": [
    {
     "data": {
      "text/plain": [
       "'a'"
      ]
     },
     "execution_count": 49,
     "metadata": {},
     "output_type": "execute_result"
    }
   ],
   "source": [
    "s[1]"
   ]
  },
  {
   "cell_type": "code",
   "execution_count": 51,
   "id": "084f2380",
   "metadata": {},
   "outputs": [
    {
     "data": {
      "text/plain": [
       "'Mabhu'"
      ]
     },
     "execution_count": 51,
     "metadata": {},
     "output_type": "execute_result"
    }
   ],
   "source": [
    "s.replace(\"d\",\"b\")"
   ]
  },
  {
   "cell_type": "code",
   "execution_count": 53,
   "id": "84c6c1bb",
   "metadata": {},
   "outputs": [],
   "source": [
    "l = ['m', 'a', 'd', 'h', 'u']"
   ]
  },
  {
   "cell_type": "code",
   "execution_count": 54,
   "id": "2c0f1d95",
   "metadata": {},
   "outputs": [],
   "source": [
    "l[2] = 'b'"
   ]
  },
  {
   "cell_type": "code",
   "execution_count": 55,
   "id": "e144fcc7",
   "metadata": {},
   "outputs": [
    {
     "data": {
      "text/plain": [
       "['m', 'a', 'b', 'h', 'u']"
      ]
     },
     "execution_count": 55,
     "metadata": {},
     "output_type": "execute_result"
    }
   ],
   "source": [
    "l"
   ]
  },
  {
   "cell_type": "markdown",
   "id": "c55a2c0f",
   "metadata": {},
   "source": [
    "# Tuple\n"
   ]
  },
  {
   "cell_type": "code",
   "execution_count": 56,
   "id": "225287b0",
   "metadata": {},
   "outputs": [],
   "source": [
    "t = ()"
   ]
  },
  {
   "cell_type": "code",
   "execution_count": 57,
   "id": "5ac475f9",
   "metadata": {},
   "outputs": [
    {
     "data": {
      "text/plain": [
       "tuple"
      ]
     },
     "execution_count": 57,
     "metadata": {},
     "output_type": "execute_result"
    }
   ],
   "source": [
    "type(t)"
   ]
  },
  {
   "cell_type": "code",
   "execution_count": 60,
   "id": "fa2a623a",
   "metadata": {},
   "outputs": [],
   "source": [
    "t = (2,3,4,5,9.5,\"Vaibhav\", \"Tejas\", \"Namdev\", \"Ritika\", True)\n",
    "# Heterogenous"
   ]
  },
  {
   "cell_type": "code",
   "execution_count": 59,
   "id": "11bcb701",
   "metadata": {},
   "outputs": [
    {
     "data": {
      "text/plain": [
       "tuple"
      ]
     },
     "execution_count": 59,
     "metadata": {},
     "output_type": "execute_result"
    }
   ],
   "source": [
    "type(t)"
   ]
  },
  {
   "cell_type": "code",
   "execution_count": 62,
   "id": "3e567725",
   "metadata": {},
   "outputs": [
    {
     "data": {
      "text/plain": [
       "(2, 3, 4, 5, 9.5, 'Vaibhav', 'Tejas', 'Namdev')"
      ]
     },
     "execution_count": 62,
     "metadata": {},
     "output_type": "execute_result"
    }
   ],
   "source": [
    "# Comprehension operation\n",
    "# Ritika\n",
    "t[0:8:1]"
   ]
  },
  {
   "cell_type": "code",
   "execution_count": 63,
   "id": "6a277abf",
   "metadata": {},
   "outputs": [
    {
     "data": {
      "text/plain": [
       "(2, 3, 4, 5, 9.5, 'Vaibhav', 'Tejas', 'Namdev')"
      ]
     },
     "execution_count": 63,
     "metadata": {},
     "output_type": "execute_result"
    }
   ],
   "source": [
    "# Vaibhav\n",
    "t[:8:1]"
   ]
  },
  {
   "cell_type": "code",
   "execution_count": 64,
   "id": "813ece95",
   "metadata": {},
   "outputs": [
    {
     "data": {
      "text/plain": [
       "True"
      ]
     },
     "execution_count": 64,
     "metadata": {},
     "output_type": "execute_result"
    }
   ],
   "source": [
    "t[-1]\n"
   ]
  },
  {
   "cell_type": "code",
   "execution_count": 65,
   "id": "80825d08",
   "metadata": {},
   "outputs": [
    {
     "data": {
      "text/plain": [
       "(True,)"
      ]
     },
     "execution_count": 65,
     "metadata": {},
     "output_type": "execute_result"
    }
   ],
   "source": [
    "t[9:20:1]"
   ]
  },
  {
   "cell_type": "code",
   "execution_count": 67,
   "id": "c623d38d",
   "metadata": {},
   "outputs": [
    {
     "data": {
      "text/plain": [
       "True"
      ]
     },
     "execution_count": 67,
     "metadata": {},
     "output_type": "execute_result"
    }
   ],
   "source": [
    "t[9]"
   ]
  },
  {
   "cell_type": "code",
   "execution_count": 69,
   "id": "1978ba64",
   "metadata": {},
   "outputs": [],
   "source": [
    "l = [4,5,6,7,8]\n"
   ]
  },
  {
   "cell_type": "code",
   "execution_count": 71,
   "id": "410b0df0",
   "metadata": {},
   "outputs": [],
   "source": [
    "t = (2,3,4,5,9.5,\"Vaibhav\", \"Tejas\", \"Namdev\", \"Ritika\", True)"
   ]
  },
  {
   "cell_type": "code",
   "execution_count": 75,
   "id": "0eb9066b",
   "metadata": {},
   "outputs": [
    {
     "data": {
      "text/plain": [
       "3"
      ]
     },
     "execution_count": 75,
     "metadata": {},
     "output_type": "execute_result"
    }
   ],
   "source": [
    "# Q. replace your name with your surname.\n",
    "t1 = (34,56,78,12,45)\n",
    "# Q. add t tuple with t1.\n",
    "# Q. How many times 5 has appeared?\n",
    "# Q. Convert t into a list.\n",
    "# Q. Convert t into a string"
   ]
  },
  {
   "cell_type": "code",
   "execution_count": 76,
   "id": "9669b572",
   "metadata": {},
   "outputs": [
    {
     "data": {
      "text/plain": [
       "(2, 3, 4, 5, 9.5, 'Vaibhav', 'Tejas', 'Namdev', 'Ritika', True)"
      ]
     },
     "execution_count": 76,
     "metadata": {},
     "output_type": "execute_result"
    }
   ],
   "source": [
    "t"
   ]
  },
  {
   "cell_type": "code",
   "execution_count": 78,
   "id": "b66a0d3a",
   "metadata": {},
   "outputs": [
    {
     "data": {
      "text/plain": [
       "(2, 3, 4, 5, 9.5, 'Vaibhav', 'Tejas', 'Namdev', 'Ritika', True)"
      ]
     },
     "execution_count": 78,
     "metadata": {},
     "output_type": "execute_result"
    }
   ],
   "source": [
    "t"
   ]
  },
  {
   "cell_type": "code",
   "execution_count": 79,
   "id": "cf5f4279",
   "metadata": {},
   "outputs": [],
   "source": [
    "# Dictionary--> key and value pair"
   ]
  },
  {
   "cell_type": "code",
   "execution_count": 80,
   "id": "9c5ecb63",
   "metadata": {},
   "outputs": [],
   "source": [
    "d = {}"
   ]
  },
  {
   "cell_type": "code",
   "execution_count": 81,
   "id": "f6f04875",
   "metadata": {},
   "outputs": [
    {
     "data": {
      "text/plain": [
       "dict"
      ]
     },
     "execution_count": 81,
     "metadata": {},
     "output_type": "execute_result"
    }
   ],
   "source": [
    "type(d)"
   ]
  },
  {
   "cell_type": "code",
   "execution_count": 86,
   "id": "ae2207ee",
   "metadata": {},
   "outputs": [],
   "source": [
    "d = {1,2,4,6,6, \"Vaibhav\"}"
   ]
  },
  {
   "cell_type": "code",
   "execution_count": 87,
   "id": "6f23d865",
   "metadata": {},
   "outputs": [
    {
     "data": {
      "text/plain": [
       "set"
      ]
     },
     "execution_count": 87,
     "metadata": {},
     "output_type": "execute_result"
    }
   ],
   "source": [
    "type(d)"
   ]
  },
  {
   "cell_type": "code",
   "execution_count": 88,
   "id": "d48b7887",
   "metadata": {},
   "outputs": [
    {
     "data": {
      "text/plain": [
       "{1, 2, 4, 6, 'Vaibhav'}"
      ]
     },
     "execution_count": 88,
     "metadata": {},
     "output_type": "execute_result"
    }
   ],
   "source": [
    "d"
   ]
  },
  {
   "cell_type": "code",
   "execution_count": 89,
   "id": "998c44fe",
   "metadata": {},
   "outputs": [],
   "source": [
    "d = {\"name\":\"Ritika\", \"class\":\"MCA\", \"Roll_No\": \"123005\"}"
   ]
  },
  {
   "cell_type": "code",
   "execution_count": 90,
   "id": "18bd2268",
   "metadata": {},
   "outputs": [
    {
     "data": {
      "text/plain": [
       "dict"
      ]
     },
     "execution_count": 90,
     "metadata": {},
     "output_type": "execute_result"
    }
   ],
   "source": [
    "type(d)"
   ]
  },
  {
   "cell_type": "code",
   "execution_count": 92,
   "id": "c9d1cff3",
   "metadata": {},
   "outputs": [
    {
     "data": {
      "text/plain": [
       "'MCA'"
      ]
     },
     "execution_count": 92,
     "metadata": {},
     "output_type": "execute_result"
    }
   ],
   "source": [
    "# Q. How to find out in which class Ritika is Studying?\n",
    "d.get(\"class\")"
   ]
  },
  {
   "cell_type": "code",
   "execution_count": 93,
   "id": "b0a84526",
   "metadata": {},
   "outputs": [
    {
     "data": {
      "text/plain": [
       "'MCA'"
      ]
     },
     "execution_count": 93,
     "metadata": {},
     "output_type": "execute_result"
    }
   ],
   "source": [
    "d[\"class\"]"
   ]
  }
 ],
 "metadata": {
  "kernelspec": {
   "display_name": "Python 3 (ipykernel)",
   "language": "python",
   "name": "python3"
  },
  "language_info": {
   "codemirror_mode": {
    "name": "ipython",
    "version": 3
   },
   "file_extension": ".py",
   "mimetype": "text/x-python",
   "name": "python",
   "nbconvert_exporter": "python",
   "pygments_lexer": "ipython3",
   "version": "3.9.12"
  }
 },
 "nbformat": 4,
 "nbformat_minor": 5
}
